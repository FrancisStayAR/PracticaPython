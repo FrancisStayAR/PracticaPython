{
 "cells": [
  {
   "cell_type": "code",
   "execution_count": 1,
   "metadata": {},
   "outputs": [
    {
     "name": "stdout",
     "output_type": "stream",
     "text": [
      "Esto es verdadero\n"
     ]
    }
   ],
   "source": [
    "if True:\n",
    "    print('Esto es verdadero')"
   ]
  },
  {
   "cell_type": "code",
   "execution_count": 3,
   "metadata": {},
   "outputs": [],
   "source": [
    "if False:\n",
    "    print ('falso')"
   ]
  },
  {
   "cell_type": "code",
   "execution_count": 3,
   "metadata": {},
   "outputs": [
    {
     "name": "stdout",
     "output_type": "stream",
     "text": [
      "Esto es verdadero\n",
      "Esto no se que es\n"
     ]
    }
   ],
   "source": [
    "var = 20\n",
    "if var == 20:\n",
    "    print('Esto es verdadero')\n",
    "\n",
    "if var == 20:\n",
    "    print('Esto no se que es')"
   ]
  },
  {
   "cell_type": "code",
   "execution_count": 21,
   "metadata": {},
   "outputs": [
    {
     "name": "stdout",
     "output_type": "stream",
     "text": [
      "Esto es verdadero\n"
     ]
    }
   ],
   "source": [
    "var = 20\n",
    "if var == 20:\n",
    "    print('Esto es verdadero')\n",
    "\n",
    "if var == 10:\n",
    "    print('Esto no se que es')"
   ]
  },
  {
   "cell_type": "code",
   "execution_count": 26,
   "metadata": {},
   "outputs": [
    {
     "name": "stdout",
     "output_type": "stream",
     "text": [
      "Error de resultado\n"
     ]
    }
   ],
   "source": [
    "var = 20\n",
    "if var == 10:\n",
    "    print('Esto es verdadero')\n",
    "elif var == 30:\n",
    "    print('Esto es Falso')\n",
    "else:\n",
    "    print (\"Error de resultado\")"
   ]
  },
  {
   "cell_type": "code",
   "execution_count": null,
   "metadata": {},
   "outputs": [],
   "source": []
  }
 ],
 "metadata": {
  "kernelspec": {
   "display_name": "Python 3",
   "language": "python",
   "name": "python3"
  },
  "language_info": {
   "codemirror_mode": {
    "name": "ipython",
    "version": 3
   },
   "file_extension": ".py",
   "mimetype": "text/x-python",
   "name": "python",
   "nbconvert_exporter": "python",
   "pygments_lexer": "ipython3",
   "version": "3.8.5"
  }
 },
 "nbformat": 4,
 "nbformat_minor": 4
}
