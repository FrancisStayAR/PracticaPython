{
 "cells": [
  {
   "cell_type": "code",
   "execution_count": 2,
   "metadata": {},
   "outputs": [
    {
     "name": "stdout",
     "output_type": "stream",
     "text": [
      "Esta es una iteracion va por el:  1\n",
      "Esta es una iteracion va por el:  2\n",
      "Esta es una iteracion va por el:  3\n",
      "Esta es una iteracion va por el:  4\n"
     ]
    }
   ],
   "source": [
    "iteracion = 0 \n",
    "while iteracion <= 3:\n",
    "    iteracion += 1\n",
    "    print ('Esta es una iteracion va por el: ', iteracion)"
   ]
  },
  {
   "cell_type": "code",
   "execution_count": 10,
   "metadata": {},
   "outputs": [
    {
     "name": "stdout",
     "output_type": "stream",
     "text": [
      "Esta es una iteracion va por el:  3\n"
     ]
    }
   ],
   "source": [
    "iteracion = 0 \n",
    "while iteracion <= 3:\n",
    "    iteracion += 1\n",
    "    if(iteracion == 3):\n",
    "        print ('Esta es una iteracion va por el: ', iteracion)\n",
    "        break\n",
    "else:\n",
    "    print('chao')"
   ]
  },
  {
   "cell_type": "code",
   "execution_count": null,
   "metadata": {},
   "outputs": [],
   "source": []
  }
 ],
 "metadata": {
  "kernelspec": {
   "display_name": "Python 3",
   "language": "python",
   "name": "python3"
  },
  "language_info": {
   "codemirror_mode": {
    "name": "ipython",
    "version": 3
   },
   "file_extension": ".py",
   "mimetype": "text/x-python",
   "name": "python",
   "nbconvert_exporter": "python",
   "pygments_lexer": "ipython3",
   "version": "3.8.5"
  }
 },
 "nbformat": 4,
 "nbformat_minor": 4
}
