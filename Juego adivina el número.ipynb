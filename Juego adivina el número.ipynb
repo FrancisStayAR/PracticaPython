{
 "cells": [
  {
   "cell_type": "markdown",
   "metadata": {},
   "source": [
    "## Primer ejercicio de python \" Juego a adivinar el número\""
   ]
  },
  {
   "cell_type": "code",
   "execution_count": 2,
   "metadata": {},
   "outputs": [],
   "source": [
    "import random"
   ]
  },
  {
   "cell_type": "code",
   "execution_count": null,
   "metadata": {},
   "outputs": [
    {
     "name": "stdout",
     "output_type": "stream",
     "text": [
      "¡Adivina el numero entre el 1 y el 5!\n",
      " \n",
      "ingresa el numero: 2\n",
      " \n",
      "intento nro 1\n",
      " \n",
      "----------------------------------------------------------------------\n",
      "X X X X Intentalo otra vez! El numero inrgesado es mayor al numero secreto X X X X\n",
      " \n",
      "ingresa el numero: 4\n",
      " \n",
      "intento nro 2\n",
      " \n",
      "----------------------------------------------------------------------\n",
      "X X X X Intentalo otra vez! El numero inrgesado es mayor al numero secreto X X X X\n",
      " \n",
      "ingresa el numero: 3\n",
      " \n",
      "intento nro 3\n",
      " \n",
      "----------------------------------------------------------------------\n",
      "X X X X Intentalo otra vez! El numero inrgesado es mayor al numero secreto X X X X\n",
      " \n",
      "ingresa el numero: 5\n",
      " \n",
      "intento nro 4\n",
      " \n",
      "----------------------------------------------------------------------\n",
      "X X X X Intentalo otra vez! El numero inrgesado es mayor al numero secreto X X X X\n",
      " \n",
      "ingresa el numero: 1\n",
      " \n",
      "intento nro 5\n",
      " \n",
      "----------------------------------------------------------------------\n",
      "************ Felicidades Adivinaste el numero en el intento:  5************\n",
      " \n",
      "----------------------------------------------------------------------\n"
     ]
    }
   ],
   "source": [
    "numero_secreto = random.randint(1, 5)\n",
    "numero_intentos = 0\n",
    "adivinado = False\n",
    "\n",
    "\n",
    "print('¡Adivina el numero entre el 1 y el 5!')\n",
    "print (' ')\n",
    "while not adivinado:\n",
    "    numero_intentos += 1\n",
    "    numero_ingreso = int(input(\"ingresa el numero: \"))\n",
    "    print (' ')\n",
    "    print ('intento nro ' + str(numero_intentos))\n",
    "    print (' ')\n",
    "    print ('----------------------------------------------------------------------')\n",
    "    if numero_ingreso == numero_secreto:\n",
    "        print(\"************ Felicidades Adivinaste el numero en el intento: \", str(numero_intentos) + ' ************')\n",
    "        print (' ')\n",
    "        print ('----------------------------------------------------------------------')\n",
    "    elif numero_ingreso < numero_secreto:    \n",
    "        print(\"X X X X Intentalo otra vez! El numero inrgesado es menor al numero secreto X X X X\")\n",
    "        print (' ')\n",
    "    elif numero_ingreso > numero_secreto:    \n",
    "        print(\"X X X X Intentalo otra vez! El numero inrgesado es mayor al numero secreto X X X X\")\n",
    "        print (' ')\n",
    "    else:\n",
    "        print(\"No valido\")\n",
    "        \n",
    "    \n"
   ]
  },
  {
   "cell_type": "code",
   "execution_count": null,
   "metadata": {},
   "outputs": [],
   "source": []
  }
 ],
 "metadata": {
  "kernelspec": {
   "display_name": "Python 3",
   "language": "python",
   "name": "python3"
  },
  "language_info": {
   "codemirror_mode": {
    "name": "ipython",
    "version": 3
   },
   "file_extension": ".py",
   "mimetype": "text/x-python",
   "name": "python",
   "nbconvert_exporter": "python",
   "pygments_lexer": "ipython3",
   "version": "3.8.5"
  }
 },
 "nbformat": 4,
 "nbformat_minor": 4
}
